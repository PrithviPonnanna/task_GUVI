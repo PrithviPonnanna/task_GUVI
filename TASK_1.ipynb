{
  "nbformat": 4,
  "nbformat_minor": 0,
  "metadata": {
    "colab": {
      "name": "TASK_1",
      "provenance": []
    },
    "kernelspec": {
      "name": "python3",
      "display_name": "Python 3"
    },
    "language_info": {
      "name": "python"
    }
  },
  "cells": [
    {
      "cell_type": "code",
      "execution_count": null,
      "metadata": {
        "id": "D7vZsh6syCgJ"
      },
      "outputs": [],
      "source": [
        ""
      ]
    },
    {
      "cell_type": "code",
      "source": [
        "F = open(\"/content/sample_data/Database1\",\"w\")\n",
        "F.write(\"\")\n",
        "F.close()"
      ],
      "metadata": {
        "id": "cPv5jCsdHQXH"
      },
      "execution_count": 2,
      "outputs": []
    },
    {
      "cell_type": "markdown",
      "source": [
        "# New Section"
      ],
      "metadata": {
        "id": "P7my49E-ybKE"
      }
    },
    {
      "cell_type": "code",
      "source": [
        "def register():\n",
        "  username=input('Please enter username or emailid')\n",
        "  for i in range(0,len(username)):\n",
        "    if ((i==0 and username[i]=='@')or(username[i]=='@' and username[i+1]=='.')or(i==0 and username[i].isdigit())or(i==0 and (username[i]=='&' or username[i]=='!' or username[i]=='%' or username[i]=='#'))):\n",
        "      print('invalid username, Please enter valid username')\n",
        "      register()\n",
        "  password=input('enter password')\n",
        "  digit=0\n",
        "  special_char=0\n",
        "  small_letters=0\n",
        "  capital_letters=0\n",
        "  for i in range(0,len(password)):\n",
        "    if(password[i]=='!' or password[i]=='%' or password[i]=='#' or password[i]=='&' or password[i]=='@' ):\n",
        "      special_char+=1\n",
        "    if(password[i].isupper()):\n",
        "      capital_letters+=1\n",
        "    if(password[i].islower()):\n",
        "      small_letters+=1\n",
        "    if(password[i].isdigit()):\n",
        "      digit+=1\n",
        "  if((len(password)>5 and len(password)<16) and special_char>=1 and digit>=1 and small_letters>=1 and capital_letters>=1):\n",
        "    print('Registered successfully!')\n",
        "    db=open(\"/content/sample_data/Database1\", \"a\")\n",
        "    data=username+','+password\n",
        "    db.write(data)\n",
        "    db.write('\\n')\n",
        "    db.close()\n",
        "    db=open(\"/content/sample_data/Database1\", \"r\")\n",
        "    print(db.read())\n",
        "    \n",
        "  else:\n",
        "    print('password is not matching please register again')\n",
        "    register()\n",
        "    \n",
        "    \n",
        "ss='false'\n",
        "i=input('Welcome! \\n if you are a new user enter y to register or to login enter n')\n",
        "if i=='y':\n",
        "  register()\n",
        "if i=='n':\n",
        "  i=input('Would you like to login? enter y or n?')\n",
        "  if i=='n':\n",
        "    print('Goodbye!')\n",
        "  if i=='y':\n",
        "    user_name=input('please enter username/emailid')\n",
        "    pass_word=input('please enter the password')\n",
        "    db=open(\"/content/sample_data/Database1\", \"r\")\n",
        "  \n",
        "    for s in db:\n",
        "      a,b=s.split(\",\")\n",
        "      b=b.strip()\n",
        "      if(user_name==a and pass_word==b):\n",
        "        print('login successful!')\n",
        "        ss='true'\n",
        "        exit()\n",
        "      if(user_name==a and pass_word!=b):\n",
        "        print('password is wrong.')\n",
        "        l=input('would you like to click forgot password. enter y/n')\n",
        "        if l=='y':\n",
        "          print('your password is ',b)\n",
        "          ss='true'\n",
        "          break\n",
        "        else:\n",
        "          print('no forgot password is requested')\n",
        "          ss='true'\n",
        "          break\n",
        "    if(ss=='false'):\n",
        "      print('Details not found. Please register')"
      ],
      "metadata": {
        "colab": {
          "base_uri": "https://localhost:8080/"
        },
        "id": "z0sKqfRLyMgE",
        "outputId": "ed0f230d-efff-4f09-c46a-a8eca0e54856"
      },
      "execution_count": null,
      "outputs": [
        {
          "name": "stdout",
          "output_type": "stream",
          "text": [
            "Welcome! \n",
            " if you are a new user enter y to register or to login enter nn\n"
          ]
        }
      ]
    }
  ]
}