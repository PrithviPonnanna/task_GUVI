{
  "cells": [
    {
      "cell_type": "markdown",
      "metadata": {
        "id": "sFdcNYrl0Bxn"
      },
      "source": [
        "###### Assessment"
      ]
    },
    {
      "cell_type": "markdown",
      "metadata": {
        "id": "Jz5pleHp0Bxu"
      },
      "source": [
        "###### I am going to provide two .csv files , you are supposed to work on them and have to provide solutions to the following problems"
      ]
    },
    {
      "cell_type": "markdown",
      "metadata": {
        "id": "-tx6QPpJ0Bxv"
      },
      "source": [
        "###### import necessary libraries"
      ]
    },
    {
      "cell_type": "code",
      "execution_count": 1,
      "metadata": {
        "id": "IC_U0YKB0Bxx"
      },
      "outputs": [],
      "source": [
        "import pandas as pd\n",
        "import numpy as np\n",
        "import matplotlib.pyplot as plt\n",
        "import seaborn as sns"
      ]
    },
    {
      "cell_type": "markdown",
      "metadata": {
        "id": "cNDxJufp0Bxy"
      },
      "source": [
        "###### merge those two csv files (after getting as dataframes, get them as a single dataframe)"
      ]
    },
    {
      "cell_type": "code",
      "execution_count": 3,
      "metadata": {
        "id": "BVorlN9X0Bxz"
      },
      "outputs": [],
      "source": [
        "df1 = pd.read_csv('/content/college_1.csv')\n",
        "df2 = pd.read_csv('/content/college_2.csv')\n"
      ]
    },
    {
      "cell_type": "code",
      "source": [
        "df1.head()"
      ],
      "metadata": {
        "colab": {
          "base_uri": "https://localhost:8080/",
          "height": 206
        },
        "id": "S_x2bBtJ07cK",
        "outputId": "367cd8c1-0724-4914-9c71-b6dadc7bf6f5"
      },
      "execution_count": 4,
      "outputs": [
        {
          "output_type": "execute_result",
          "data": {
            "text/plain": [
              "          Name  python  mysql  Previous Geekions  CodeKata Score  \\\n",
              "0    A.Dharani    82.0   20.0              24500           24500   \n",
              "1  V.JEEVITHA     82.0   20.0              21740           21740   \n",
              "2  HEMAVATHI.R   100.0  100.0              19680           19680   \n",
              "3  Mugunthan S   100.0   47.0              10610           10610   \n",
              "4  Sathammai.S   100.0    8.0               8980            8980   \n",
              "\n",
              "                         Department  Rising  \n",
              "0  Computer Science and Engineering       0  \n",
              "1  Computer Science and Engineering       0  \n",
              "2  Computer Science and Engineering       0  \n",
              "3  Computer Science and Engineering       0  \n",
              "4  Computer Science and Engineering       0  "
            ],
            "text/html": [
              "\n",
              "  <div id=\"df-038fc3cf-8a02-445a-991f-859e7650be4e\">\n",
              "    <div class=\"colab-df-container\">\n",
              "      <div>\n",
              "<style scoped>\n",
              "    .dataframe tbody tr th:only-of-type {\n",
              "        vertical-align: middle;\n",
              "    }\n",
              "\n",
              "    .dataframe tbody tr th {\n",
              "        vertical-align: top;\n",
              "    }\n",
              "\n",
              "    .dataframe thead th {\n",
              "        text-align: right;\n",
              "    }\n",
              "</style>\n",
              "<table border=\"1\" class=\"dataframe\">\n",
              "  <thead>\n",
              "    <tr style=\"text-align: right;\">\n",
              "      <th></th>\n",
              "      <th>Name</th>\n",
              "      <th>python</th>\n",
              "      <th>mysql</th>\n",
              "      <th>Previous Geekions</th>\n",
              "      <th>CodeKata Score</th>\n",
              "      <th>Department</th>\n",
              "      <th>Rising</th>\n",
              "    </tr>\n",
              "  </thead>\n",
              "  <tbody>\n",
              "    <tr>\n",
              "      <th>0</th>\n",
              "      <td>A.Dharani</td>\n",
              "      <td>82.0</td>\n",
              "      <td>20.0</td>\n",
              "      <td>24500</td>\n",
              "      <td>24500</td>\n",
              "      <td>Computer Science and Engineering</td>\n",
              "      <td>0</td>\n",
              "    </tr>\n",
              "    <tr>\n",
              "      <th>1</th>\n",
              "      <td>V.JEEVITHA</td>\n",
              "      <td>82.0</td>\n",
              "      <td>20.0</td>\n",
              "      <td>21740</td>\n",
              "      <td>21740</td>\n",
              "      <td>Computer Science and Engineering</td>\n",
              "      <td>0</td>\n",
              "    </tr>\n",
              "    <tr>\n",
              "      <th>2</th>\n",
              "      <td>HEMAVATHI.R</td>\n",
              "      <td>100.0</td>\n",
              "      <td>100.0</td>\n",
              "      <td>19680</td>\n",
              "      <td>19680</td>\n",
              "      <td>Computer Science and Engineering</td>\n",
              "      <td>0</td>\n",
              "    </tr>\n",
              "    <tr>\n",
              "      <th>3</th>\n",
              "      <td>Mugunthan S</td>\n",
              "      <td>100.0</td>\n",
              "      <td>47.0</td>\n",
              "      <td>10610</td>\n",
              "      <td>10610</td>\n",
              "      <td>Computer Science and Engineering</td>\n",
              "      <td>0</td>\n",
              "    </tr>\n",
              "    <tr>\n",
              "      <th>4</th>\n",
              "      <td>Sathammai.S</td>\n",
              "      <td>100.0</td>\n",
              "      <td>8.0</td>\n",
              "      <td>8980</td>\n",
              "      <td>8980</td>\n",
              "      <td>Computer Science and Engineering</td>\n",
              "      <td>0</td>\n",
              "    </tr>\n",
              "  </tbody>\n",
              "</table>\n",
              "</div>\n",
              "      <button class=\"colab-df-convert\" onclick=\"convertToInteractive('df-038fc3cf-8a02-445a-991f-859e7650be4e')\"\n",
              "              title=\"Convert this dataframe to an interactive table.\"\n",
              "              style=\"display:none;\">\n",
              "        \n",
              "  <svg xmlns=\"http://www.w3.org/2000/svg\" height=\"24px\"viewBox=\"0 0 24 24\"\n",
              "       width=\"24px\">\n",
              "    <path d=\"M0 0h24v24H0V0z\" fill=\"none\"/>\n",
              "    <path d=\"M18.56 5.44l.94 2.06.94-2.06 2.06-.94-2.06-.94-.94-2.06-.94 2.06-2.06.94zm-11 1L8.5 8.5l.94-2.06 2.06-.94-2.06-.94L8.5 2.5l-.94 2.06-2.06.94zm10 10l.94 2.06.94-2.06 2.06-.94-2.06-.94-.94-2.06-.94 2.06-2.06.94z\"/><path d=\"M17.41 7.96l-1.37-1.37c-.4-.4-.92-.59-1.43-.59-.52 0-1.04.2-1.43.59L10.3 9.45l-7.72 7.72c-.78.78-.78 2.05 0 2.83L4 21.41c.39.39.9.59 1.41.59.51 0 1.02-.2 1.41-.59l7.78-7.78 2.81-2.81c.8-.78.8-2.07 0-2.86zM5.41 20L4 18.59l7.72-7.72 1.47 1.35L5.41 20z\"/>\n",
              "  </svg>\n",
              "      </button>\n",
              "      \n",
              "  <style>\n",
              "    .colab-df-container {\n",
              "      display:flex;\n",
              "      flex-wrap:wrap;\n",
              "      gap: 12px;\n",
              "    }\n",
              "\n",
              "    .colab-df-convert {\n",
              "      background-color: #E8F0FE;\n",
              "      border: none;\n",
              "      border-radius: 50%;\n",
              "      cursor: pointer;\n",
              "      display: none;\n",
              "      fill: #1967D2;\n",
              "      height: 32px;\n",
              "      padding: 0 0 0 0;\n",
              "      width: 32px;\n",
              "    }\n",
              "\n",
              "    .colab-df-convert:hover {\n",
              "      background-color: #E2EBFA;\n",
              "      box-shadow: 0px 1px 2px rgba(60, 64, 67, 0.3), 0px 1px 3px 1px rgba(60, 64, 67, 0.15);\n",
              "      fill: #174EA6;\n",
              "    }\n",
              "\n",
              "    [theme=dark] .colab-df-convert {\n",
              "      background-color: #3B4455;\n",
              "      fill: #D2E3FC;\n",
              "    }\n",
              "\n",
              "    [theme=dark] .colab-df-convert:hover {\n",
              "      background-color: #434B5C;\n",
              "      box-shadow: 0px 1px 3px 1px rgba(0, 0, 0, 0.15);\n",
              "      filter: drop-shadow(0px 1px 2px rgba(0, 0, 0, 0.3));\n",
              "      fill: #FFFFFF;\n",
              "    }\n",
              "  </style>\n",
              "\n",
              "      <script>\n",
              "        const buttonEl =\n",
              "          document.querySelector('#df-038fc3cf-8a02-445a-991f-859e7650be4e button.colab-df-convert');\n",
              "        buttonEl.style.display =\n",
              "          google.colab.kernel.accessAllowed ? 'block' : 'none';\n",
              "\n",
              "        async function convertToInteractive(key) {\n",
              "          const element = document.querySelector('#df-038fc3cf-8a02-445a-991f-859e7650be4e');\n",
              "          const dataTable =\n",
              "            await google.colab.kernel.invokeFunction('convertToInteractive',\n",
              "                                                     [key], {});\n",
              "          if (!dataTable) return;\n",
              "\n",
              "          const docLinkHtml = 'Like what you see? Visit the ' +\n",
              "            '<a target=\"_blank\" href=https://colab.research.google.com/notebooks/data_table.ipynb>data table notebook</a>'\n",
              "            + ' to learn more about interactive tables.';\n",
              "          element.innerHTML = '';\n",
              "          dataTable['output_type'] = 'display_data';\n",
              "          await google.colab.output.renderOutput(dataTable, element);\n",
              "          const docLink = document.createElement('div');\n",
              "          docLink.innerHTML = docLinkHtml;\n",
              "          element.appendChild(docLink);\n",
              "        }\n",
              "      </script>\n",
              "    </div>\n",
              "  </div>\n",
              "  "
            ]
          },
          "metadata": {},
          "execution_count": 4
        }
      ]
    },
    {
      "cell_type": "code",
      "source": [
        "df2.head()"
      ],
      "metadata": {
        "colab": {
          "base_uri": "https://localhost:8080/",
          "height": 372
        },
        "id": "qtPlVgjh1Acl",
        "outputId": "8a6692f1-1bb0-42f5-b862-be0b2196be5e"
      },
      "execution_count": 5,
      "outputs": [
        {
          "output_type": "execute_result",
          "data": {
            "text/plain": [
              "                Name  python  python_en  mysql  computational_thinking  \\\n",
              "0      ASHOK KUMAR K     100          0     31                       9   \n",
              "1            Chandru       0         20      0                       0   \n",
              "2  Ganesh Ramkumar R      -1         55     24                       6   \n",
              "3    Bodipudi Harini      -1          0     35                      -1   \n",
              "4          VIINU V P      -1        100     24                      -1   \n",
              "\n",
              "   Previous Geekions  CodeKata Score  \\\n",
              "0              19400           19400   \n",
              "1              14150           14490   \n",
              "2               8790           10790   \n",
              "3              10040           10040   \n",
              "4               9150            9150   \n",
              "\n",
              "                                  Department  Rising  \n",
              "0     Electronics and Electrical Engineering       0  \n",
              "1           Computer Science and Engineering     340  \n",
              "2           Computer Science and Engineering    2000  \n",
              "3  Electronics and Communication Engineering       0  \n",
              "4     Electronics and Electrical Engineering       0  "
            ],
            "text/html": [
              "\n",
              "  <div id=\"df-e7851e02-13f3-46bd-81a9-e5bce50f9ae1\">\n",
              "    <div class=\"colab-df-container\">\n",
              "      <div>\n",
              "<style scoped>\n",
              "    .dataframe tbody tr th:only-of-type {\n",
              "        vertical-align: middle;\n",
              "    }\n",
              "\n",
              "    .dataframe tbody tr th {\n",
              "        vertical-align: top;\n",
              "    }\n",
              "\n",
              "    .dataframe thead th {\n",
              "        text-align: right;\n",
              "    }\n",
              "</style>\n",
              "<table border=\"1\" class=\"dataframe\">\n",
              "  <thead>\n",
              "    <tr style=\"text-align: right;\">\n",
              "      <th></th>\n",
              "      <th>Name</th>\n",
              "      <th>python</th>\n",
              "      <th>python_en</th>\n",
              "      <th>mysql</th>\n",
              "      <th>computational_thinking</th>\n",
              "      <th>Previous Geekions</th>\n",
              "      <th>CodeKata Score</th>\n",
              "      <th>Department</th>\n",
              "      <th>Rising</th>\n",
              "    </tr>\n",
              "  </thead>\n",
              "  <tbody>\n",
              "    <tr>\n",
              "      <th>0</th>\n",
              "      <td>ASHOK KUMAR K</td>\n",
              "      <td>100</td>\n",
              "      <td>0</td>\n",
              "      <td>31</td>\n",
              "      <td>9</td>\n",
              "      <td>19400</td>\n",
              "      <td>19400</td>\n",
              "      <td>Electronics and Electrical Engineering</td>\n",
              "      <td>0</td>\n",
              "    </tr>\n",
              "    <tr>\n",
              "      <th>1</th>\n",
              "      <td>Chandru</td>\n",
              "      <td>0</td>\n",
              "      <td>20</td>\n",
              "      <td>0</td>\n",
              "      <td>0</td>\n",
              "      <td>14150</td>\n",
              "      <td>14490</td>\n",
              "      <td>Computer Science and Engineering</td>\n",
              "      <td>340</td>\n",
              "    </tr>\n",
              "    <tr>\n",
              "      <th>2</th>\n",
              "      <td>Ganesh Ramkumar R</td>\n",
              "      <td>-1</td>\n",
              "      <td>55</td>\n",
              "      <td>24</td>\n",
              "      <td>6</td>\n",
              "      <td>8790</td>\n",
              "      <td>10790</td>\n",
              "      <td>Computer Science and Engineering</td>\n",
              "      <td>2000</td>\n",
              "    </tr>\n",
              "    <tr>\n",
              "      <th>3</th>\n",
              "      <td>Bodipudi Harini</td>\n",
              "      <td>-1</td>\n",
              "      <td>0</td>\n",
              "      <td>35</td>\n",
              "      <td>-1</td>\n",
              "      <td>10040</td>\n",
              "      <td>10040</td>\n",
              "      <td>Electronics and Communication Engineering</td>\n",
              "      <td>0</td>\n",
              "    </tr>\n",
              "    <tr>\n",
              "      <th>4</th>\n",
              "      <td>VIINU V P</td>\n",
              "      <td>-1</td>\n",
              "      <td>100</td>\n",
              "      <td>24</td>\n",
              "      <td>-1</td>\n",
              "      <td>9150</td>\n",
              "      <td>9150</td>\n",
              "      <td>Electronics and Electrical Engineering</td>\n",
              "      <td>0</td>\n",
              "    </tr>\n",
              "  </tbody>\n",
              "</table>\n",
              "</div>\n",
              "      <button class=\"colab-df-convert\" onclick=\"convertToInteractive('df-e7851e02-13f3-46bd-81a9-e5bce50f9ae1')\"\n",
              "              title=\"Convert this dataframe to an interactive table.\"\n",
              "              style=\"display:none;\">\n",
              "        \n",
              "  <svg xmlns=\"http://www.w3.org/2000/svg\" height=\"24px\"viewBox=\"0 0 24 24\"\n",
              "       width=\"24px\">\n",
              "    <path d=\"M0 0h24v24H0V0z\" fill=\"none\"/>\n",
              "    <path d=\"M18.56 5.44l.94 2.06.94-2.06 2.06-.94-2.06-.94-.94-2.06-.94 2.06-2.06.94zm-11 1L8.5 8.5l.94-2.06 2.06-.94-2.06-.94L8.5 2.5l-.94 2.06-2.06.94zm10 10l.94 2.06.94-2.06 2.06-.94-2.06-.94-.94-2.06-.94 2.06-2.06.94z\"/><path d=\"M17.41 7.96l-1.37-1.37c-.4-.4-.92-.59-1.43-.59-.52 0-1.04.2-1.43.59L10.3 9.45l-7.72 7.72c-.78.78-.78 2.05 0 2.83L4 21.41c.39.39.9.59 1.41.59.51 0 1.02-.2 1.41-.59l7.78-7.78 2.81-2.81c.8-.78.8-2.07 0-2.86zM5.41 20L4 18.59l7.72-7.72 1.47 1.35L5.41 20z\"/>\n",
              "  </svg>\n",
              "      </button>\n",
              "      \n",
              "  <style>\n",
              "    .colab-df-container {\n",
              "      display:flex;\n",
              "      flex-wrap:wrap;\n",
              "      gap: 12px;\n",
              "    }\n",
              "\n",
              "    .colab-df-convert {\n",
              "      background-color: #E8F0FE;\n",
              "      border: none;\n",
              "      border-radius: 50%;\n",
              "      cursor: pointer;\n",
              "      display: none;\n",
              "      fill: #1967D2;\n",
              "      height: 32px;\n",
              "      padding: 0 0 0 0;\n",
              "      width: 32px;\n",
              "    }\n",
              "\n",
              "    .colab-df-convert:hover {\n",
              "      background-color: #E2EBFA;\n",
              "      box-shadow: 0px 1px 2px rgba(60, 64, 67, 0.3), 0px 1px 3px 1px rgba(60, 64, 67, 0.15);\n",
              "      fill: #174EA6;\n",
              "    }\n",
              "\n",
              "    [theme=dark] .colab-df-convert {\n",
              "      background-color: #3B4455;\n",
              "      fill: #D2E3FC;\n",
              "    }\n",
              "\n",
              "    [theme=dark] .colab-df-convert:hover {\n",
              "      background-color: #434B5C;\n",
              "      box-shadow: 0px 1px 3px 1px rgba(0, 0, 0, 0.15);\n",
              "      filter: drop-shadow(0px 1px 2px rgba(0, 0, 0, 0.3));\n",
              "      fill: #FFFFFF;\n",
              "    }\n",
              "  </style>\n",
              "\n",
              "      <script>\n",
              "        const buttonEl =\n",
              "          document.querySelector('#df-e7851e02-13f3-46bd-81a9-e5bce50f9ae1 button.colab-df-convert');\n",
              "        buttonEl.style.display =\n",
              "          google.colab.kernel.accessAllowed ? 'block' : 'none';\n",
              "\n",
              "        async function convertToInteractive(key) {\n",
              "          const element = document.querySelector('#df-e7851e02-13f3-46bd-81a9-e5bce50f9ae1');\n",
              "          const dataTable =\n",
              "            await google.colab.kernel.invokeFunction('convertToInteractive',\n",
              "                                                     [key], {});\n",
              "          if (!dataTable) return;\n",
              "\n",
              "          const docLinkHtml = 'Like what you see? Visit the ' +\n",
              "            '<a target=\"_blank\" href=https://colab.research.google.com/notebooks/data_table.ipynb>data table notebook</a>'\n",
              "            + ' to learn more about interactive tables.';\n",
              "          element.innerHTML = '';\n",
              "          dataTable['output_type'] = 'display_data';\n",
              "          await google.colab.output.renderOutput(dataTable, element);\n",
              "          const docLink = document.createElement('div');\n",
              "          docLink.innerHTML = docLinkHtml;\n",
              "          element.appendChild(docLink);\n",
              "        }\n",
              "      </script>\n",
              "    </div>\n",
              "  </div>\n",
              "  "
            ]
          },
          "metadata": {},
          "execution_count": 5
        }
      ]
    },
    {
      "cell_type": "code",
      "source": [
        "import pandas as pd\n",
        "  \n",
        "\n",
        "df = pd.concat(\n",
        "    map(pd.read_csv, ['/content/college_1.csv', '/content/college_2.csv']), ignore_index=False)\n",
        "print(df)"
      ],
      "metadata": {
        "colab": {
          "base_uri": "https://localhost:8080/"
        },
        "id": "IiYvtfsS1F6a",
        "outputId": "c30bf18c-71da-407e-d077-2eb6f0f6f6cb"
      },
      "execution_count": 6,
      "outputs": [
        {
          "output_type": "stream",
          "name": "stdout",
          "text": [
            "             Name  python  mysql  Previous Geekions  CodeKata Score  \\\n",
            "0       A.Dharani    82.0   20.0              24500           24500   \n",
            "1     V.JEEVITHA     82.0   20.0              21740           21740   \n",
            "2     HEMAVATHI.R   100.0  100.0              19680           19680   \n",
            "3     Mugunthan S   100.0   47.0              10610           10610   \n",
            "4     Sathammai.S   100.0    8.0               8980            8980   \n",
            "..            ...     ...    ...                ...             ...   \n",
            "30  praveen raj j    24.0    0.0               2380            2380   \n",
            "31     AMARNATH D    -1.0   12.0               1890            1890   \n",
            "32           bala    32.0    0.0               1720            1720   \n",
            "33           XY Z    -1.0   -1.0                  0               0   \n",
            "34      Hariharan    -1.0   -1.0                  0               0   \n",
            "\n",
            "                                   Department  Rising  python_en  \\\n",
            "0            Computer Science and Engineering       0        NaN   \n",
            "1            Computer Science and Engineering       0        NaN   \n",
            "2            Computer Science and Engineering       0        NaN   \n",
            "3            Computer Science and Engineering       0        NaN   \n",
            "4            Computer Science and Engineering       0        NaN   \n",
            "..                                        ...     ...        ...   \n",
            "30           Computer Science and Engineering       0       -1.0   \n",
            "31  Electronics and Communication Engineering       0       52.0   \n",
            "32  Electronics and Communication Engineering       0       49.0   \n",
            "33           Computer Science and Engineering       0       20.0   \n",
            "34           Computer Science and Engineering       0       -1.0   \n",
            "\n",
            "    computational_thinking  \n",
            "0                      NaN  \n",
            "1                      NaN  \n",
            "2                      NaN  \n",
            "3                      NaN  \n",
            "4                      NaN  \n",
            "..                     ...  \n",
            "30                     0.0  \n",
            "31                    -1.0  \n",
            "32                    -1.0  \n",
            "33                    -1.0  \n",
            "34                     0.0  \n",
            "\n",
            "[119 rows x 9 columns]\n"
          ]
        }
      ]
    },
    {
      "cell_type": "markdown",
      "metadata": {
        "id": "le9pVdci0Bx0"
      },
      "source": [
        "###### Take each csv file , split that csv file into multiple categories (example csv files are added in the repo) \n"
      ]
    },
    {
      "cell_type": "code",
      "source": [
        "print(df[[\"CodeKata Score\"]])"
      ],
      "metadata": {
        "colab": {
          "base_uri": "https://localhost:8080/"
        },
        "id": "FoQlvTwM1dmV",
        "outputId": "c9a42b2a-bd3c-4e82-a75b-19addf33f380"
      },
      "execution_count": 7,
      "outputs": [
        {
          "output_type": "stream",
          "name": "stdout",
          "text": [
            "    CodeKata Score\n",
            "0            24500\n",
            "1            21740\n",
            "2            19680\n",
            "3            10610\n",
            "4             8980\n",
            "..             ...\n",
            "30            2380\n",
            "31            1890\n",
            "32            1720\n",
            "33               0\n",
            "34               0\n",
            "\n",
            "[119 rows x 1 columns]\n"
          ]
        }
      ]
    },
    {
      "cell_type": "markdown",
      "metadata": {
        "id": "psQbHdfn0Bx1"
      },
      "source": [
        "###### consider if the codekata score exceeds 15000 points(present week) then make a csv on those observations as Exceeded expectations.csv\n"
      ]
    },
    {
      "cell_type": "code",
      "source": [
        "d = df[(df['CodeKata Score']>15000)]\n",
        "d = d.reset_index()\n",
        "del d['index']\n",
        "d.to_csv('Exceeded expectations.csv', index=False)"
      ],
      "metadata": {
        "id": "NVxqOZr62fwP"
      },
      "execution_count": 11,
      "outputs": []
    },
    {
      "cell_type": "markdown",
      "metadata": {
        "id": "ilsK91rX0Bx2"
      },
      "source": [
        "###### if  10000<codekata score<15000   (Reached_expectations.csv)\n",
        "\n"
      ]
    },
    {
      "cell_type": "code",
      "source": [
        "a = df[(df['CodeKata Score']>10000) & (df['CodeKata Score']<15000)]\n",
        "a = a.reset_index()\n",
        "del a['index']\n",
        "a.to_csv('Reached_expectations.csv', index=False)"
      ],
      "metadata": {
        "id": "MyYIrKM32NEN"
      },
      "execution_count": 8,
      "outputs": []
    },
    {
      "cell_type": "markdown",
      "metadata": {
        "id": "G-BLTKrG0Bx3"
      },
      "source": [
        "###### if  7000<codekata score<10000   (Needs_Improvement.csv)\n"
      ]
    },
    {
      "cell_type": "code",
      "source": [
        "b = df[(df['CodeKata Score']>7000) & (df['CodeKata Score']<10000)]\n",
        "b = b.reset_index()\n",
        "del b['index']\n",
        "b.to_csv('Needs_Improvement.csv', index=False)"
      ],
      "metadata": {
        "id": "fRpJRXVP1wgV"
      },
      "execution_count": 9,
      "outputs": []
    },
    {
      "cell_type": "markdown",
      "metadata": {
        "id": "Q_jMqWoG0Bx4"
      },
      "source": [
        "###### if  codekate score < 7000        (Unsatisfactory.csv)"
      ]
    },
    {
      "cell_type": "code",
      "execution_count": 10,
      "metadata": {
        "id": "zM-qq7Jr0Bx5"
      },
      "outputs": [],
      "source": [
        "c = df[(df['CodeKata Score']<7000)]\n",
        "c = c.reset_index()\n",
        "del c['index']\n",
        "c.to_csv('Unsatisfactory.csv', index=False)"
      ]
    },
    {
      "cell_type": "markdown",
      "metadata": {
        "id": "Ox2yvFL60Bx6"
      },
      "source": [
        "###### Average of previous week geekions vs this week geekions (i.e Previous Geekions vs CodeKata Score)"
      ]
    },
    {
      "cell_type": "code",
      "execution_count": 12,
      "metadata": {
        "id": "g2O45SbH0Bx7",
        "colab": {
          "base_uri": "https://localhost:8080/"
        },
        "outputId": "9d44f5a2-2aa9-42cf-cd7a-8fc04cfdd331"
      },
      "outputs": [
        {
          "output_type": "stream",
          "name": "stdout",
          "text": [
            "4051.764705882353\n",
            "3842.3529411764707\n"
          ]
        }
      ],
      "source": [
        "print(df['CodeKata Score'].mean())\n",
        "print(df['Previous Geekions'].mean())"
      ]
    },
    {
      "cell_type": "markdown",
      "metadata": {
        "id": "aA-gu2_40Bx8"
      },
      "source": [
        "###### No of students participated "
      ]
    },
    {
      "cell_type": "code",
      "execution_count": 13,
      "metadata": {
        "id": "rASAavkN0Bx-",
        "colab": {
          "base_uri": "https://localhost:8080/",
          "height": 711
        },
        "outputId": "f04b86d3-b808-46fa-b2c9-b20cc277b443"
      },
      "outputs": [
        {
          "output_type": "execute_result",
          "data": {
            "text/plain": [
              "              Name  python  mysql  Previous Geekions  CodeKata Score  \\\n",
              "0        A.Dharani    82.0   20.0              24500           24500   \n",
              "1      V.JEEVITHA     82.0   20.0              21740           21740   \n",
              "2      HEMAVATHI.R   100.0  100.0              19680           19680   \n",
              "3      Mugunthan S   100.0   47.0              10610           10610   \n",
              "4      Sathammai.S   100.0    8.0               8980            8980   \n",
              "..             ...     ...    ...                ...             ...   \n",
              "107  M.Karthikeyan    -1.0    4.0               4020            4020   \n",
              "108      Abishak s    -1.0   35.0               3220            3220   \n",
              "109  praveen raj j    24.0    0.0               2380            2380   \n",
              "110     AMARNATH D    -1.0   12.0               1890            1890   \n",
              "111           bala    32.0    0.0               1720            1720   \n",
              "\n",
              "                                    Department  Rising  python_en  \\\n",
              "0             Computer Science and Engineering       0        NaN   \n",
              "1             Computer Science and Engineering       0        NaN   \n",
              "2             Computer Science and Engineering       0        NaN   \n",
              "3             Computer Science and Engineering       0        NaN   \n",
              "4             Computer Science and Engineering       0        NaN   \n",
              "..                                         ...     ...        ...   \n",
              "107           Computer Science and Engineering       0        0.0   \n",
              "108  Electronics and Communication Engineering       0       55.0   \n",
              "109           Computer Science and Engineering       0       -1.0   \n",
              "110  Electronics and Communication Engineering       0       52.0   \n",
              "111  Electronics and Communication Engineering       0       49.0   \n",
              "\n",
              "     computational_thinking  \n",
              "0                       NaN  \n",
              "1                       NaN  \n",
              "2                       NaN  \n",
              "3                       NaN  \n",
              "4                       NaN  \n",
              "..                      ...  \n",
              "107                     6.0  \n",
              "108                     6.0  \n",
              "109                     0.0  \n",
              "110                    -1.0  \n",
              "111                    -1.0  \n",
              "\n",
              "[112 rows x 9 columns]"
            ],
            "text/html": [
              "\n",
              "  <div id=\"df-772c56b2-95ae-41e1-aa0f-8fd8136e11f3\">\n",
              "    <div class=\"colab-df-container\">\n",
              "      <div>\n",
              "<style scoped>\n",
              "    .dataframe tbody tr th:only-of-type {\n",
              "        vertical-align: middle;\n",
              "    }\n",
              "\n",
              "    .dataframe tbody tr th {\n",
              "        vertical-align: top;\n",
              "    }\n",
              "\n",
              "    .dataframe thead th {\n",
              "        text-align: right;\n",
              "    }\n",
              "</style>\n",
              "<table border=\"1\" class=\"dataframe\">\n",
              "  <thead>\n",
              "    <tr style=\"text-align: right;\">\n",
              "      <th></th>\n",
              "      <th>Name</th>\n",
              "      <th>python</th>\n",
              "      <th>mysql</th>\n",
              "      <th>Previous Geekions</th>\n",
              "      <th>CodeKata Score</th>\n",
              "      <th>Department</th>\n",
              "      <th>Rising</th>\n",
              "      <th>python_en</th>\n",
              "      <th>computational_thinking</th>\n",
              "    </tr>\n",
              "  </thead>\n",
              "  <tbody>\n",
              "    <tr>\n",
              "      <th>0</th>\n",
              "      <td>A.Dharani</td>\n",
              "      <td>82.0</td>\n",
              "      <td>20.0</td>\n",
              "      <td>24500</td>\n",
              "      <td>24500</td>\n",
              "      <td>Computer Science and Engineering</td>\n",
              "      <td>0</td>\n",
              "      <td>NaN</td>\n",
              "      <td>NaN</td>\n",
              "    </tr>\n",
              "    <tr>\n",
              "      <th>1</th>\n",
              "      <td>V.JEEVITHA</td>\n",
              "      <td>82.0</td>\n",
              "      <td>20.0</td>\n",
              "      <td>21740</td>\n",
              "      <td>21740</td>\n",
              "      <td>Computer Science and Engineering</td>\n",
              "      <td>0</td>\n",
              "      <td>NaN</td>\n",
              "      <td>NaN</td>\n",
              "    </tr>\n",
              "    <tr>\n",
              "      <th>2</th>\n",
              "      <td>HEMAVATHI.R</td>\n",
              "      <td>100.0</td>\n",
              "      <td>100.0</td>\n",
              "      <td>19680</td>\n",
              "      <td>19680</td>\n",
              "      <td>Computer Science and Engineering</td>\n",
              "      <td>0</td>\n",
              "      <td>NaN</td>\n",
              "      <td>NaN</td>\n",
              "    </tr>\n",
              "    <tr>\n",
              "      <th>3</th>\n",
              "      <td>Mugunthan S</td>\n",
              "      <td>100.0</td>\n",
              "      <td>47.0</td>\n",
              "      <td>10610</td>\n",
              "      <td>10610</td>\n",
              "      <td>Computer Science and Engineering</td>\n",
              "      <td>0</td>\n",
              "      <td>NaN</td>\n",
              "      <td>NaN</td>\n",
              "    </tr>\n",
              "    <tr>\n",
              "      <th>4</th>\n",
              "      <td>Sathammai.S</td>\n",
              "      <td>100.0</td>\n",
              "      <td>8.0</td>\n",
              "      <td>8980</td>\n",
              "      <td>8980</td>\n",
              "      <td>Computer Science and Engineering</td>\n",
              "      <td>0</td>\n",
              "      <td>NaN</td>\n",
              "      <td>NaN</td>\n",
              "    </tr>\n",
              "    <tr>\n",
              "      <th>...</th>\n",
              "      <td>...</td>\n",
              "      <td>...</td>\n",
              "      <td>...</td>\n",
              "      <td>...</td>\n",
              "      <td>...</td>\n",
              "      <td>...</td>\n",
              "      <td>...</td>\n",
              "      <td>...</td>\n",
              "      <td>...</td>\n",
              "    </tr>\n",
              "    <tr>\n",
              "      <th>107</th>\n",
              "      <td>M.Karthikeyan</td>\n",
              "      <td>-1.0</td>\n",
              "      <td>4.0</td>\n",
              "      <td>4020</td>\n",
              "      <td>4020</td>\n",
              "      <td>Computer Science and Engineering</td>\n",
              "      <td>0</td>\n",
              "      <td>0.0</td>\n",
              "      <td>6.0</td>\n",
              "    </tr>\n",
              "    <tr>\n",
              "      <th>108</th>\n",
              "      <td>Abishak s</td>\n",
              "      <td>-1.0</td>\n",
              "      <td>35.0</td>\n",
              "      <td>3220</td>\n",
              "      <td>3220</td>\n",
              "      <td>Electronics and Communication Engineering</td>\n",
              "      <td>0</td>\n",
              "      <td>55.0</td>\n",
              "      <td>6.0</td>\n",
              "    </tr>\n",
              "    <tr>\n",
              "      <th>109</th>\n",
              "      <td>praveen raj j</td>\n",
              "      <td>24.0</td>\n",
              "      <td>0.0</td>\n",
              "      <td>2380</td>\n",
              "      <td>2380</td>\n",
              "      <td>Computer Science and Engineering</td>\n",
              "      <td>0</td>\n",
              "      <td>-1.0</td>\n",
              "      <td>0.0</td>\n",
              "    </tr>\n",
              "    <tr>\n",
              "      <th>110</th>\n",
              "      <td>AMARNATH D</td>\n",
              "      <td>-1.0</td>\n",
              "      <td>12.0</td>\n",
              "      <td>1890</td>\n",
              "      <td>1890</td>\n",
              "      <td>Electronics and Communication Engineering</td>\n",
              "      <td>0</td>\n",
              "      <td>52.0</td>\n",
              "      <td>-1.0</td>\n",
              "    </tr>\n",
              "    <tr>\n",
              "      <th>111</th>\n",
              "      <td>bala</td>\n",
              "      <td>32.0</td>\n",
              "      <td>0.0</td>\n",
              "      <td>1720</td>\n",
              "      <td>1720</td>\n",
              "      <td>Electronics and Communication Engineering</td>\n",
              "      <td>0</td>\n",
              "      <td>49.0</td>\n",
              "      <td>-1.0</td>\n",
              "    </tr>\n",
              "  </tbody>\n",
              "</table>\n",
              "<p>112 rows × 9 columns</p>\n",
              "</div>\n",
              "      <button class=\"colab-df-convert\" onclick=\"convertToInteractive('df-772c56b2-95ae-41e1-aa0f-8fd8136e11f3')\"\n",
              "              title=\"Convert this dataframe to an interactive table.\"\n",
              "              style=\"display:none;\">\n",
              "        \n",
              "  <svg xmlns=\"http://www.w3.org/2000/svg\" height=\"24px\"viewBox=\"0 0 24 24\"\n",
              "       width=\"24px\">\n",
              "    <path d=\"M0 0h24v24H0V0z\" fill=\"none\"/>\n",
              "    <path d=\"M18.56 5.44l.94 2.06.94-2.06 2.06-.94-2.06-.94-.94-2.06-.94 2.06-2.06.94zm-11 1L8.5 8.5l.94-2.06 2.06-.94-2.06-.94L8.5 2.5l-.94 2.06-2.06.94zm10 10l.94 2.06.94-2.06 2.06-.94-2.06-.94-.94-2.06-.94 2.06-2.06.94z\"/><path d=\"M17.41 7.96l-1.37-1.37c-.4-.4-.92-.59-1.43-.59-.52 0-1.04.2-1.43.59L10.3 9.45l-7.72 7.72c-.78.78-.78 2.05 0 2.83L4 21.41c.39.39.9.59 1.41.59.51 0 1.02-.2 1.41-.59l7.78-7.78 2.81-2.81c.8-.78.8-2.07 0-2.86zM5.41 20L4 18.59l7.72-7.72 1.47 1.35L5.41 20z\"/>\n",
              "  </svg>\n",
              "      </button>\n",
              "      \n",
              "  <style>\n",
              "    .colab-df-container {\n",
              "      display:flex;\n",
              "      flex-wrap:wrap;\n",
              "      gap: 12px;\n",
              "    }\n",
              "\n",
              "    .colab-df-convert {\n",
              "      background-color: #E8F0FE;\n",
              "      border: none;\n",
              "      border-radius: 50%;\n",
              "      cursor: pointer;\n",
              "      display: none;\n",
              "      fill: #1967D2;\n",
              "      height: 32px;\n",
              "      padding: 0 0 0 0;\n",
              "      width: 32px;\n",
              "    }\n",
              "\n",
              "    .colab-df-convert:hover {\n",
              "      background-color: #E2EBFA;\n",
              "      box-shadow: 0px 1px 2px rgba(60, 64, 67, 0.3), 0px 1px 3px 1px rgba(60, 64, 67, 0.15);\n",
              "      fill: #174EA6;\n",
              "    }\n",
              "\n",
              "    [theme=dark] .colab-df-convert {\n",
              "      background-color: #3B4455;\n",
              "      fill: #D2E3FC;\n",
              "    }\n",
              "\n",
              "    [theme=dark] .colab-df-convert:hover {\n",
              "      background-color: #434B5C;\n",
              "      box-shadow: 0px 1px 3px 1px rgba(0, 0, 0, 0.15);\n",
              "      filter: drop-shadow(0px 1px 2px rgba(0, 0, 0, 0.3));\n",
              "      fill: #FFFFFF;\n",
              "    }\n",
              "  </style>\n",
              "\n",
              "      <script>\n",
              "        const buttonEl =\n",
              "          document.querySelector('#df-772c56b2-95ae-41e1-aa0f-8fd8136e11f3 button.colab-df-convert');\n",
              "        buttonEl.style.display =\n",
              "          google.colab.kernel.accessAllowed ? 'block' : 'none';\n",
              "\n",
              "        async function convertToInteractive(key) {\n",
              "          const element = document.querySelector('#df-772c56b2-95ae-41e1-aa0f-8fd8136e11f3');\n",
              "          const dataTable =\n",
              "            await google.colab.kernel.invokeFunction('convertToInteractive',\n",
              "                                                     [key], {});\n",
              "          if (!dataTable) return;\n",
              "\n",
              "          const docLinkHtml = 'Like what you see? Visit the ' +\n",
              "            '<a target=\"_blank\" href=https://colab.research.google.com/notebooks/data_table.ipynb>data table notebook</a>'\n",
              "            + ' to learn more about interactive tables.';\n",
              "          element.innerHTML = '';\n",
              "          dataTable['output_type'] = 'display_data';\n",
              "          await google.colab.output.renderOutput(dataTable, element);\n",
              "          const docLink = document.createElement('div');\n",
              "          docLink.innerHTML = docLinkHtml;\n",
              "          element.appendChild(docLink);\n",
              "        }\n",
              "      </script>\n",
              "    </div>\n",
              "  </div>\n",
              "  "
            ]
          },
          "metadata": {},
          "execution_count": 13
        }
      ],
      "source": [
        "ndf = df[df['Previous Geekions'] > 0]\n",
        "ndf = ndf.reset_index()\n",
        "del ndf['index']\n",
        "ndf"
      ]
    },
    {
      "cell_type": "markdown",
      "metadata": {
        "id": "PgKkkULy0Bx-"
      },
      "source": [
        "###### #Average completion of python course or my_sql or python english or computational thinking"
      ]
    },
    {
      "cell_type": "code",
      "execution_count": 14,
      "metadata": {
        "id": "M8Fohl5w0Bx-",
        "colab": {
          "base_uri": "https://localhost:8080/"
        },
        "outputId": "5924fca1-58db-43fb-9de4-289a1b7e20a1"
      },
      "outputs": [
        {
          "output_type": "stream",
          "name": "stdout",
          "text": [
            "54.35294117647059\n",
            "23.5\n",
            "29.65714285714286\n",
            "2.2\n"
          ]
        }
      ],
      "source": [
        "print(df['python'].mean())\n",
        "print(df['mysql'].mean())\n",
        "df2 = pd.read_csv(\"/content/college_2.csv\")\n",
        "print(df2['python_en'].mean())\n",
        "print(df2['computational_thinking'].mean())"
      ]
    },
    {
      "cell_type": "markdown",
      "metadata": {
        "id": "FU9lSnWw0Bx_"
      },
      "source": [
        "###### rising star of the week (top 3 candidate who performed well in that particular week)"
      ]
    },
    {
      "cell_type": "code",
      "execution_count": 15,
      "metadata": {
        "id": "Gk6lEBKe0ByA",
        "colab": {
          "base_uri": "https://localhost:8080/",
          "height": 257
        },
        "outputId": "21a5ca80-b188-4ee6-c94b-a2ce1e853f99"
      },
      "outputs": [
        {
          "output_type": "execute_result",
          "data": {
            "text/plain": [
              "                 Name  python  mysql  Previous Geekions  CodeKata Score  \\\n",
              "8            shifak N    58.0    0.0               5180            8320   \n",
              "18     Narasimhan Y L    -1.0    0.0               4800            6800   \n",
              "2   Ganesh Ramkumar R    -1.0   24.0               8790           10790   \n",
              "\n",
              "                                Department  Rising  python_en  \\\n",
              "8   Electronics and Electrical Engineering    3140        0.0   \n",
              "18        Computer Science and Engineering    2000       -1.0   \n",
              "2         Computer Science and Engineering    2000       55.0   \n",
              "\n",
              "    computational_thinking  \n",
              "8                      0.0  \n",
              "18                     0.0  \n",
              "2                      6.0  "
            ],
            "text/html": [
              "\n",
              "  <div id=\"df-ad70d2cb-2aca-480e-baa9-23cf4e09a7d0\">\n",
              "    <div class=\"colab-df-container\">\n",
              "      <div>\n",
              "<style scoped>\n",
              "    .dataframe tbody tr th:only-of-type {\n",
              "        vertical-align: middle;\n",
              "    }\n",
              "\n",
              "    .dataframe tbody tr th {\n",
              "        vertical-align: top;\n",
              "    }\n",
              "\n",
              "    .dataframe thead th {\n",
              "        text-align: right;\n",
              "    }\n",
              "</style>\n",
              "<table border=\"1\" class=\"dataframe\">\n",
              "  <thead>\n",
              "    <tr style=\"text-align: right;\">\n",
              "      <th></th>\n",
              "      <th>Name</th>\n",
              "      <th>python</th>\n",
              "      <th>mysql</th>\n",
              "      <th>Previous Geekions</th>\n",
              "      <th>CodeKata Score</th>\n",
              "      <th>Department</th>\n",
              "      <th>Rising</th>\n",
              "      <th>python_en</th>\n",
              "      <th>computational_thinking</th>\n",
              "    </tr>\n",
              "  </thead>\n",
              "  <tbody>\n",
              "    <tr>\n",
              "      <th>8</th>\n",
              "      <td>shifak N</td>\n",
              "      <td>58.0</td>\n",
              "      <td>0.0</td>\n",
              "      <td>5180</td>\n",
              "      <td>8320</td>\n",
              "      <td>Electronics and Electrical Engineering</td>\n",
              "      <td>3140</td>\n",
              "      <td>0.0</td>\n",
              "      <td>0.0</td>\n",
              "    </tr>\n",
              "    <tr>\n",
              "      <th>18</th>\n",
              "      <td>Narasimhan Y L</td>\n",
              "      <td>-1.0</td>\n",
              "      <td>0.0</td>\n",
              "      <td>4800</td>\n",
              "      <td>6800</td>\n",
              "      <td>Computer Science and Engineering</td>\n",
              "      <td>2000</td>\n",
              "      <td>-1.0</td>\n",
              "      <td>0.0</td>\n",
              "    </tr>\n",
              "    <tr>\n",
              "      <th>2</th>\n",
              "      <td>Ganesh Ramkumar R</td>\n",
              "      <td>-1.0</td>\n",
              "      <td>24.0</td>\n",
              "      <td>8790</td>\n",
              "      <td>10790</td>\n",
              "      <td>Computer Science and Engineering</td>\n",
              "      <td>2000</td>\n",
              "      <td>55.0</td>\n",
              "      <td>6.0</td>\n",
              "    </tr>\n",
              "  </tbody>\n",
              "</table>\n",
              "</div>\n",
              "      <button class=\"colab-df-convert\" onclick=\"convertToInteractive('df-ad70d2cb-2aca-480e-baa9-23cf4e09a7d0')\"\n",
              "              title=\"Convert this dataframe to an interactive table.\"\n",
              "              style=\"display:none;\">\n",
              "        \n",
              "  <svg xmlns=\"http://www.w3.org/2000/svg\" height=\"24px\"viewBox=\"0 0 24 24\"\n",
              "       width=\"24px\">\n",
              "    <path d=\"M0 0h24v24H0V0z\" fill=\"none\"/>\n",
              "    <path d=\"M18.56 5.44l.94 2.06.94-2.06 2.06-.94-2.06-.94-.94-2.06-.94 2.06-2.06.94zm-11 1L8.5 8.5l.94-2.06 2.06-.94-2.06-.94L8.5 2.5l-.94 2.06-2.06.94zm10 10l.94 2.06.94-2.06 2.06-.94-2.06-.94-.94-2.06-.94 2.06-2.06.94z\"/><path d=\"M17.41 7.96l-1.37-1.37c-.4-.4-.92-.59-1.43-.59-.52 0-1.04.2-1.43.59L10.3 9.45l-7.72 7.72c-.78.78-.78 2.05 0 2.83L4 21.41c.39.39.9.59 1.41.59.51 0 1.02-.2 1.41-.59l7.78-7.78 2.81-2.81c.8-.78.8-2.07 0-2.86zM5.41 20L4 18.59l7.72-7.72 1.47 1.35L5.41 20z\"/>\n",
              "  </svg>\n",
              "      </button>\n",
              "      \n",
              "  <style>\n",
              "    .colab-df-container {\n",
              "      display:flex;\n",
              "      flex-wrap:wrap;\n",
              "      gap: 12px;\n",
              "    }\n",
              "\n",
              "    .colab-df-convert {\n",
              "      background-color: #E8F0FE;\n",
              "      border: none;\n",
              "      border-radius: 50%;\n",
              "      cursor: pointer;\n",
              "      display: none;\n",
              "      fill: #1967D2;\n",
              "      height: 32px;\n",
              "      padding: 0 0 0 0;\n",
              "      width: 32px;\n",
              "    }\n",
              "\n",
              "    .colab-df-convert:hover {\n",
              "      background-color: #E2EBFA;\n",
              "      box-shadow: 0px 1px 2px rgba(60, 64, 67, 0.3), 0px 1px 3px 1px rgba(60, 64, 67, 0.15);\n",
              "      fill: #174EA6;\n",
              "    }\n",
              "\n",
              "    [theme=dark] .colab-df-convert {\n",
              "      background-color: #3B4455;\n",
              "      fill: #D2E3FC;\n",
              "    }\n",
              "\n",
              "    [theme=dark] .colab-df-convert:hover {\n",
              "      background-color: #434B5C;\n",
              "      box-shadow: 0px 1px 3px 1px rgba(0, 0, 0, 0.15);\n",
              "      filter: drop-shadow(0px 1px 2px rgba(0, 0, 0, 0.3));\n",
              "      fill: #FFFFFF;\n",
              "    }\n",
              "  </style>\n",
              "\n",
              "      <script>\n",
              "        const buttonEl =\n",
              "          document.querySelector('#df-ad70d2cb-2aca-480e-baa9-23cf4e09a7d0 button.colab-df-convert');\n",
              "        buttonEl.style.display =\n",
              "          google.colab.kernel.accessAllowed ? 'block' : 'none';\n",
              "\n",
              "        async function convertToInteractive(key) {\n",
              "          const element = document.querySelector('#df-ad70d2cb-2aca-480e-baa9-23cf4e09a7d0');\n",
              "          const dataTable =\n",
              "            await google.colab.kernel.invokeFunction('convertToInteractive',\n",
              "                                                     [key], {});\n",
              "          if (!dataTable) return;\n",
              "\n",
              "          const docLinkHtml = 'Like what you see? Visit the ' +\n",
              "            '<a target=\"_blank\" href=https://colab.research.google.com/notebooks/data_table.ipynb>data table notebook</a>'\n",
              "            + ' to learn more about interactive tables.';\n",
              "          element.innerHTML = '';\n",
              "          dataTable['output_type'] = 'display_data';\n",
              "          await google.colab.output.renderOutput(dataTable, element);\n",
              "          const docLink = document.createElement('div');\n",
              "          docLink.innerHTML = docLinkHtml;\n",
              "          element.appendChild(docLink);\n",
              "        }\n",
              "      </script>\n",
              "    </div>\n",
              "  </div>\n",
              "  "
            ]
          },
          "metadata": {},
          "execution_count": 15
        }
      ],
      "source": [
        "s = df.sort_values('Rising', ascending=False)\n",
        "s.head(3)"
      ]
    },
    {
      "cell_type": "markdown",
      "metadata": {
        "id": "ov4Mk4-D0ByB"
      },
      "source": [
        "###### Shining stars of the week (top 3 candidates who has highest geekions)"
      ]
    },
    {
      "cell_type": "code",
      "execution_count": 16,
      "metadata": {
        "id": "ACeAH_xP0ByC",
        "colab": {
          "base_uri": "https://localhost:8080/",
          "height": 257
        },
        "outputId": "5ad462ac-2196-416c-8c4f-30e4d4a4733c"
      },
      "outputs": [
        {
          "output_type": "execute_result",
          "data": {
            "text/plain": [
              "          Name  python  mysql  Previous Geekions  CodeKata Score  \\\n",
              "0    A.Dharani    82.0   20.0              24500           24500   \n",
              "1  V.JEEVITHA     82.0   20.0              21740           21740   \n",
              "2  HEMAVATHI.R   100.0  100.0              19680           19680   \n",
              "\n",
              "                         Department  Rising  python_en  computational_thinking  \n",
              "0  Computer Science and Engineering       0        NaN                     NaN  \n",
              "1  Computer Science and Engineering       0        NaN                     NaN  \n",
              "2  Computer Science and Engineering       0        NaN                     NaN  "
            ],
            "text/html": [
              "\n",
              "  <div id=\"df-d09f5769-3816-4dff-8aca-c4181a636171\">\n",
              "    <div class=\"colab-df-container\">\n",
              "      <div>\n",
              "<style scoped>\n",
              "    .dataframe tbody tr th:only-of-type {\n",
              "        vertical-align: middle;\n",
              "    }\n",
              "\n",
              "    .dataframe tbody tr th {\n",
              "        vertical-align: top;\n",
              "    }\n",
              "\n",
              "    .dataframe thead th {\n",
              "        text-align: right;\n",
              "    }\n",
              "</style>\n",
              "<table border=\"1\" class=\"dataframe\">\n",
              "  <thead>\n",
              "    <tr style=\"text-align: right;\">\n",
              "      <th></th>\n",
              "      <th>Name</th>\n",
              "      <th>python</th>\n",
              "      <th>mysql</th>\n",
              "      <th>Previous Geekions</th>\n",
              "      <th>CodeKata Score</th>\n",
              "      <th>Department</th>\n",
              "      <th>Rising</th>\n",
              "      <th>python_en</th>\n",
              "      <th>computational_thinking</th>\n",
              "    </tr>\n",
              "  </thead>\n",
              "  <tbody>\n",
              "    <tr>\n",
              "      <th>0</th>\n",
              "      <td>A.Dharani</td>\n",
              "      <td>82.0</td>\n",
              "      <td>20.0</td>\n",
              "      <td>24500</td>\n",
              "      <td>24500</td>\n",
              "      <td>Computer Science and Engineering</td>\n",
              "      <td>0</td>\n",
              "      <td>NaN</td>\n",
              "      <td>NaN</td>\n",
              "    </tr>\n",
              "    <tr>\n",
              "      <th>1</th>\n",
              "      <td>V.JEEVITHA</td>\n",
              "      <td>82.0</td>\n",
              "      <td>20.0</td>\n",
              "      <td>21740</td>\n",
              "      <td>21740</td>\n",
              "      <td>Computer Science and Engineering</td>\n",
              "      <td>0</td>\n",
              "      <td>NaN</td>\n",
              "      <td>NaN</td>\n",
              "    </tr>\n",
              "    <tr>\n",
              "      <th>2</th>\n",
              "      <td>HEMAVATHI.R</td>\n",
              "      <td>100.0</td>\n",
              "      <td>100.0</td>\n",
              "      <td>19680</td>\n",
              "      <td>19680</td>\n",
              "      <td>Computer Science and Engineering</td>\n",
              "      <td>0</td>\n",
              "      <td>NaN</td>\n",
              "      <td>NaN</td>\n",
              "    </tr>\n",
              "  </tbody>\n",
              "</table>\n",
              "</div>\n",
              "      <button class=\"colab-df-convert\" onclick=\"convertToInteractive('df-d09f5769-3816-4dff-8aca-c4181a636171')\"\n",
              "              title=\"Convert this dataframe to an interactive table.\"\n",
              "              style=\"display:none;\">\n",
              "        \n",
              "  <svg xmlns=\"http://www.w3.org/2000/svg\" height=\"24px\"viewBox=\"0 0 24 24\"\n",
              "       width=\"24px\">\n",
              "    <path d=\"M0 0h24v24H0V0z\" fill=\"none\"/>\n",
              "    <path d=\"M18.56 5.44l.94 2.06.94-2.06 2.06-.94-2.06-.94-.94-2.06-.94 2.06-2.06.94zm-11 1L8.5 8.5l.94-2.06 2.06-.94-2.06-.94L8.5 2.5l-.94 2.06-2.06.94zm10 10l.94 2.06.94-2.06 2.06-.94-2.06-.94-.94-2.06-.94 2.06-2.06.94z\"/><path d=\"M17.41 7.96l-1.37-1.37c-.4-.4-.92-.59-1.43-.59-.52 0-1.04.2-1.43.59L10.3 9.45l-7.72 7.72c-.78.78-.78 2.05 0 2.83L4 21.41c.39.39.9.59 1.41.59.51 0 1.02-.2 1.41-.59l7.78-7.78 2.81-2.81c.8-.78.8-2.07 0-2.86zM5.41 20L4 18.59l7.72-7.72 1.47 1.35L5.41 20z\"/>\n",
              "  </svg>\n",
              "      </button>\n",
              "      \n",
              "  <style>\n",
              "    .colab-df-container {\n",
              "      display:flex;\n",
              "      flex-wrap:wrap;\n",
              "      gap: 12px;\n",
              "    }\n",
              "\n",
              "    .colab-df-convert {\n",
              "      background-color: #E8F0FE;\n",
              "      border: none;\n",
              "      border-radius: 50%;\n",
              "      cursor: pointer;\n",
              "      display: none;\n",
              "      fill: #1967D2;\n",
              "      height: 32px;\n",
              "      padding: 0 0 0 0;\n",
              "      width: 32px;\n",
              "    }\n",
              "\n",
              "    .colab-df-convert:hover {\n",
              "      background-color: #E2EBFA;\n",
              "      box-shadow: 0px 1px 2px rgba(60, 64, 67, 0.3), 0px 1px 3px 1px rgba(60, 64, 67, 0.15);\n",
              "      fill: #174EA6;\n",
              "    }\n",
              "\n",
              "    [theme=dark] .colab-df-convert {\n",
              "      background-color: #3B4455;\n",
              "      fill: #D2E3FC;\n",
              "    }\n",
              "\n",
              "    [theme=dark] .colab-df-convert:hover {\n",
              "      background-color: #434B5C;\n",
              "      box-shadow: 0px 1px 3px 1px rgba(0, 0, 0, 0.15);\n",
              "      filter: drop-shadow(0px 1px 2px rgba(0, 0, 0, 0.3));\n",
              "      fill: #FFFFFF;\n",
              "    }\n",
              "  </style>\n",
              "\n",
              "      <script>\n",
              "        const buttonEl =\n",
              "          document.querySelector('#df-d09f5769-3816-4dff-8aca-c4181a636171 button.colab-df-convert');\n",
              "        buttonEl.style.display =\n",
              "          google.colab.kernel.accessAllowed ? 'block' : 'none';\n",
              "\n",
              "        async function convertToInteractive(key) {\n",
              "          const element = document.querySelector('#df-d09f5769-3816-4dff-8aca-c4181a636171');\n",
              "          const dataTable =\n",
              "            await google.colab.kernel.invokeFunction('convertToInteractive',\n",
              "                                                     [key], {});\n",
              "          if (!dataTable) return;\n",
              "\n",
              "          const docLinkHtml = 'Like what you see? Visit the ' +\n",
              "            '<a target=\"_blank\" href=https://colab.research.google.com/notebooks/data_table.ipynb>data table notebook</a>'\n",
              "            + ' to learn more about interactive tables.';\n",
              "          element.innerHTML = '';\n",
              "          dataTable['output_type'] = 'display_data';\n",
              "          await google.colab.output.renderOutput(dataTable, element);\n",
              "          const docLink = document.createElement('div');\n",
              "          docLink.innerHTML = docLinkHtml;\n",
              "          element.appendChild(docLink);\n",
              "        }\n",
              "      </script>\n",
              "    </div>\n",
              "  </div>\n",
              "  "
            ]
          },
          "metadata": {},
          "execution_count": 16
        }
      ],
      "source": [
        "Shining_stars = df.sort_values('CodeKata Score', ascending=False)\n",
        "Shining_stars.head(3)"
      ]
    },
    {
      "cell_type": "markdown",
      "metadata": {
        "id": "PQH0rK4c0ByC"
      },
      "source": [
        "###### Department wise codekata performence (pie chart)"
      ]
    },
    {
      "cell_type": "code",
      "execution_count": 21,
      "metadata": {
        "id": "Fflmq7JJ0ByD",
        "colab": {
          "base_uri": "https://localhost:8080/",
          "height": 482
        },
        "outputId": "8482b137-1140-42ee-8199-1c09987da854"
      },
      "outputs": [
        {
          "output_type": "display_data",
          "data": {
            "text/plain": [
              "<Figure size 864x576 with 1 Axes>"
            ],
            "image/png": "[encoded data removed]"
          },
          "metadata": {}
        }
      ],
      "source": [
        "data = df.groupby('Department')['CodeKata Score'].mean()\n",
        "\n",
        "lables = ['Computer Science and Engineering','Electronics and Communication Engineering', 'Electronics and Electrical Engineering ']\n",
        "\n",
        "plt.figure(figsize = (12,8))\n",
        "plt.title('Codekata Department wise Performance')\n",
        "colors = sns.color_palette('dark')[0:3]\n",
        "explode = [0.05,0.03,0.01]\n",
        "plt.pie(data, colors = colors, labels = round(data,2) , autopct='%.0f%%',startangle = 50, explode = explode)\n",
        "plt.legend(title = \"Departments\", loc='upper left', labels = lables)\n",
        "plt.show()"
      ]
    },
    {
      "cell_type": "markdown",
      "metadata": {
        "id": "zy8QmDxT0ByD"
      },
      "source": [
        "###### Department wise toppers (horizantal bar graph or any visual representations of your choice)"
      ]
    },
    {
      "cell_type": "code",
      "execution_count": 22,
      "metadata": {
        "id": "B0h6mqKl0ByD",
        "colab": {
          "base_uri": "https://localhost:8080/",
          "height": 426
        },
        "outputId": "504e9947-bd2b-4c9f-f6de-31bbc2cbe076"
      },
      "outputs": [
        {
          "output_type": "stream",
          "name": "stderr",
          "text": [
            "/usr/local/lib/python3.7/dist-packages/matplotlib/backends/backend_agg.py:214: RuntimeWarning: Glyph 9 missing from current font.\n",
            "  font.set_text(s, 0.0, flags=flags)\n",
            "/usr/local/lib/python3.7/dist-packages/matplotlib/backends/backend_agg.py:183: RuntimeWarning: Glyph 9 missing from current font.\n",
            "  font.set_text(s, 0, flags=flags)\n"
          ]
        },
        {
          "output_type": "display_data",
          "data": {
            "text/plain": [
              "<Figure size 432x288 with 1 Axes>"
            ],
            "image/png": "[encoded data removed]"
          },
          "metadata": {
            "needs_background": "light"
          }
        }
      ],
      "source": [
        "toppers = df.groupby('Department').max()\n",
        "data\n",
        "\n",
        "department=['Computer Science and Engineering','Electronics and Communication Engineering', 'Electronics and Electrical Engineering ']\n",
        "names = ['vijayakumar','vignesh B\t','yaser ahamed.A']\n",
        "scores = [24500,10040,19400]\n",
        "\n",
        "df = pd.DataFrame({'scores': scores,\n",
        "                   'Department': department}, index=names)\n",
        "ax = df.plot.bar(color=\"#4CAF50\",width=0.5)"
      ]
    },
    {
      "cell_type": "code",
      "execution_count": null,
      "metadata": {
        "id": "z4EnP-bi0ByE"
      },
      "outputs": [],
      "source": [
        ""
      ]
    },
    {
      "cell_type": "code",
      "execution_count": null,
      "metadata": {
        "id": "M2Z2I3gS0ByE"
      },
      "outputs": [],
      "source": [
        ""
      ]
    },
    {
      "cell_type": "code",
      "execution_count": null,
      "metadata": {
        "id": "wzESKutn0ByE"
      },
      "outputs": [],
      "source": [
        ""
      ]
    }
  ],
  "metadata": {
    "kernelspec": {
      "display_name": "Python 3",
      "language": "python",
      "name": "python3"
    },
    "language_info": {
      "codemirror_mode": {
        "name": "ipython",
        "version": 3
      },
      "file_extension": ".py",
      "mimetype": "text/x-python",
      "name": "python",
      "nbconvert_exporter": "python",
      "pygments_lexer": "ipython3",
      "version": "3.8.3"
    },
    "colab": {
      "name": "TASK-4-Assessment2B.ipynb",
      "provenance": [],
      "collapsed_sections": []
    }
  },
  "nbformat": 4,
  "nbformat_minor": 0
}